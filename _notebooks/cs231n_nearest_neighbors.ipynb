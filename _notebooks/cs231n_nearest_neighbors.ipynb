{
  "nbformat": 4,
  "nbformat_minor": 0,
  "metadata": {
    "colab": {
      "name": "cs231n_nearest_neighbors.ipynb",
      "provenance": [],
      "collapsed_sections": [],
      "machine_shape": "hm",
      "authorship_tag": "ABX9TyMLaS5X8WA0MaZP0uatV/i3"
    },
    "kernelspec": {
      "name": "python3",
      "display_name": "Python 3"
    }
  },
  "cells": [
    {
      "cell_type": "code",
      "metadata": {
        "id": "P73vY90hPdmi",
        "colab_type": "code",
        "colab": {}
      },
      "source": [
        "import tensorflow as tf\n",
        "import matplotlib.pyplot as plt\n",
        "import numpy as np"
      ],
      "execution_count": 0,
      "outputs": []
    },
    {
      "cell_type": "code",
      "metadata": {
        "id": "N484npMIQWDT",
        "colab_type": "code",
        "colab": {}
      },
      "source": [
        "(X_train, y_train), (X_test, y_test) = tf.keras.datasets.cifar10.load_data()"
      ],
      "execution_count": 0,
      "outputs": []
    },
    {
      "cell_type": "code",
      "metadata": {
        "id": "Cb3_DCUOQber",
        "colab_type": "code",
        "outputId": "92279ca4-cc1f-4a48-a687-bdbd1b739615",
        "colab": {
          "base_uri": "https://localhost:8080/",
          "height": 34
        }
      },
      "source": [
        "X_train.shape, y_train.shape, X_test.shape, y_test.shape"
      ],
      "execution_count": 4,
      "outputs": [
        {
          "output_type": "execute_result",
          "data": {
            "text/plain": [
              "((50000, 32, 32, 3), (50000, 1), (10000, 32, 32, 3), (10000, 1))"
            ]
          },
          "metadata": {
            "tags": []
          },
          "execution_count": 4
        }
      ]
    },
    {
      "cell_type": "code",
      "metadata": {
        "id": "VUOE360KBMSy",
        "colab_type": "code",
        "colab": {
          "base_uri": "https://localhost:8080/",
          "height": 34
        },
        "outputId": "d902aff9-02b2-450e-a085-d1cc65815009"
      },
      "source": [
        "n_train = 5000\n",
        "n_test = 500\n",
        "\n",
        "def get_mask(n_total, n_sample):\n",
        "  mask = np.zeros(n_total)\n",
        "  mask[:n_sample] = 1\n",
        "  np.random.shuffle(mask)\n",
        "\n",
        "  return mask\n",
        "\n",
        "train_mask = get_mask(len(X_train), n_train)\n",
        "test_mask = get_mask(len(X_test), n_test)\n",
        "\n",
        "X_train_sampled, y_train_sampled = X_train[train_mask == 1], y_train[train_mask == 1]\n",
        "X_test_sampled, y_test_sampled = X_test[test_mask == 1], y_test[test_mask == 1]\n",
        "\n",
        "X_train_sampled.shape, y_train_sampled.shape, X_test_sampled.shape, y_test_sampled.shape"
      ],
      "execution_count": 11,
      "outputs": [
        {
          "output_type": "execute_result",
          "data": {
            "text/plain": [
              "((5000, 32, 32, 3), (5000, 1), (500, 32, 32, 3), (500, 1))"
            ]
          },
          "metadata": {
            "tags": []
          },
          "execution_count": 11
        }
      ]
    },
    {
      "cell_type": "markdown",
      "metadata": {
        "id": "Y-8TOxKrnfdY",
        "colab_type": "text"
      },
      "source": [
        "## Model"
      ]
    },
    {
      "cell_type": "code",
      "metadata": {
        "id": "6Q_doY30slgq",
        "colab_type": "code",
        "colab": {}
      },
      "source": [
        "class KNN:\n",
        "  def __init__(self, *, k, dist=None):\n",
        "    self.k = k\n",
        "    self.dist = dist or \"l1\"\n",
        "\n",
        "    assert self.dist in [\"l1\", \"l2\"]\n",
        "\n",
        "    print(f\"Using distance: {self.dist}\")\n",
        "\n",
        "  def fit(self, X_train, y_train):\n",
        "    self.X_train = X_train\n",
        "    self.y_train = y_train\n",
        "\n",
        "  def predict(self, X_batch):\n",
        "    X_batch_expanded = np.expand_dims(X_batch, 1)\n",
        "    \n",
        "    delta = np.abs(self.X_train - X_batch_expanded)\n",
        "    if self.dist == \"l1\":\n",
        "      distance = np.sum(delta, axis=(2, 3, 4))\n",
        "    elif self.dist == \"l2\":\n",
        "      distance = np.sqrt(np.sum(delta ** 2, axis=(2, 3, 4)))\n",
        "    else:\n",
        "      raise NotImplementedError(f\"Unsupported distance function! dist: {dist}\")\n",
        "    \n",
        "    closest_k_indices = np.argsort(distance, axis=1)[:, :self.k]\n",
        "    closest_k_labels = np.take_along_axis(\n",
        "        self.y_train.reshape(1, -1), \n",
        "        closest_k_indices, \n",
        "        axis=1\n",
        "    )\n",
        "\n",
        "    def get_most_frequent(arr):\n",
        "      bincount = np.bincount(arr)\n",
        "      return np.argmax(bincount)\n",
        "\n",
        "    pred = np.apply_along_axis(\n",
        "        get_most_frequent, 1, closest_k_labels\n",
        "    ).reshape(-1)\n",
        "    ret = pred.reshape(-1)\n",
        "\n",
        "    return ret\n",
        "\n",
        "  def evaluate(self, X_test, y_test, batch_size=100, quiet=False):\n",
        "    n_sample = X_test.shape[0]\n",
        "    n_correct = 0\n",
        "\n",
        "    batch_idx = 0\n",
        "    n_evaluated = 0\n",
        "    while batch_idx < n_sample:\n",
        "      X_batch, y_batch = X_test[batch_idx:batch_idx + batch_size], y_test.reshape(-1)[batch_idx:batch_idx + batch_size]\n",
        "\n",
        "      pred_batch = self.predict(X_batch)\n",
        "\n",
        "      n_evaluated += len(X_batch)\n",
        "      n_correct += sum(pred == label for pred, label in zip(pred_batch, y_batch))\n",
        "\n",
        "      if not quiet:\n",
        "        print(f\"Evaluated {n_evaluated} samples, {n_correct} labels are correct. Accuracy: {n_correct / n_evaluated}\")\n",
        "\n",
        "      batch_idx += batch_size\n",
        "    \n",
        "    accuracy = n_correct / n_evaluated\n",
        "    return accuracy"
      ],
      "execution_count": 0,
      "outputs": []
    },
    {
      "cell_type": "code",
      "metadata": {
        "colab_type": "code",
        "id": "84GTfkHLtLPM",
        "colab": {
          "base_uri": "https://localhost:8080/",
          "height": 34
        },
        "outputId": "7b71875d-7150-4907-e92c-154699bdcd3c"
      },
      "source": [
        "l1_mod = KNN(k=1)\n",
        "l1_mod.fit(X_train_sampled, y_train_sampled)"
      ],
      "execution_count": 110,
      "outputs": [
        {
          "output_type": "stream",
          "text": [
            "Using distance: l1\n"
          ],
          "name": "stdout"
        }
      ]
    },
    {
      "cell_type": "code",
      "metadata": {
        "colab_type": "code",
        "outputId": "3ffcb0e1-1a41-44e7-d7c7-7678b42b5e88",
        "id": "XE3FXUEitLPU",
        "colab": {
          "base_uri": "https://localhost:8080/",
          "height": 34
        }
      },
      "source": [
        "l1_mod.predict(X_test_sampled[:3])"
      ],
      "execution_count": 111,
      "outputs": [
        {
          "output_type": "execute_result",
          "data": {
            "text/plain": [
              "array([1, 0, 9])"
            ]
          },
          "metadata": {
            "tags": []
          },
          "execution_count": 111
        }
      ]
    },
    {
      "cell_type": "code",
      "metadata": {
        "colab_type": "code",
        "id": "kNVYhyw3tLPa",
        "colab": {
          "base_uri": "https://localhost:8080/",
          "height": 119
        },
        "outputId": "22046c10-ebb8-4d2c-d51f-e459fdbaedd6"
      },
      "source": [
        "l1_mod.evaluate(X_test_sampled, y_test_sampled, batch_size=100)"
      ],
      "execution_count": 112,
      "outputs": [
        {
          "output_type": "stream",
          "text": [
            "Evaluated 100 samples, 23 labels are correct. Accuracy: 0.23\n",
            "Evaluated 200 samples, 50 labels are correct. Accuracy: 0.25\n",
            "Evaluated 300 samples, 78 labels are correct. Accuracy: 0.26\n",
            "Evaluated 400 samples, 99 labels are correct. Accuracy: 0.2475\n",
            "Evaluated 500 samples, 114 labels are correct. Accuracy: 0.228\n"
          ],
          "name": "stdout"
        },
        {
          "output_type": "execute_result",
          "data": {
            "text/plain": [
              "0.228"
            ]
          },
          "metadata": {
            "tags": []
          },
          "execution_count": 112
        }
      ]
    },
    {
      "cell_type": "markdown",
      "metadata": {
        "id": "59P_22giOwG3",
        "colab_type": "text"
      },
      "source": [
        "### Evaluation"
      ]
    },
    {
      "cell_type": "code",
      "metadata": {
        "id": "hsPU_OkwTykX",
        "colab_type": "code",
        "colab": {}
      },
      "source": [
        "list_k = list(range(1, 11))"
      ],
      "execution_count": 0,
      "outputs": []
    },
    {
      "cell_type": "code",
      "metadata": {
        "id": "An2vZGEWOyMf",
        "colab_type": "code",
        "colab": {
          "base_uri": "https://localhost:8080/",
          "height": 187
        },
        "outputId": "5cb97c54-cf6c-4fee-9138-a2f9f8a942fd"
      },
      "source": [
        "l1_eval = []\n",
        "\n",
        "for k in list_k:\n",
        "  mod = KNN(k=k, dist=\"l1\")\n",
        "  mod.fit(X_train_sampled, y_train_sampled)\n",
        "\n",
        "  accuracy = mod.evaluate(X_test_sampled, y_test_sampled, batch_size=100, quiet=True)\n",
        "  l1_eval.append(accuracy)"
      ],
      "execution_count": 118,
      "outputs": [
        {
          "output_type": "stream",
          "text": [
            "Using distance: l1\n",
            "Using distance: l1\n",
            "Using distance: l1\n",
            "Using distance: l1\n",
            "Using distance: l1\n",
            "Using distance: l1\n",
            "Using distance: l1\n",
            "Using distance: l1\n",
            "Using distance: l1\n",
            "Using distance: l1\n"
          ],
          "name": "stdout"
        }
      ]
    },
    {
      "cell_type": "code",
      "metadata": {
        "id": "G5pqPxAvTWvN",
        "colab_type": "code",
        "colab": {
          "base_uri": "https://localhost:8080/",
          "height": 187
        },
        "outputId": "671911ab-adbf-4354-a3e0-002d85b2522a"
      },
      "source": [
        "l2_eval = []\n",
        "\n",
        "for k in list_k:\n",
        "  mod = KNN(k=k, dist=\"l2\")\n",
        "  mod.fit(X_train_sampled, y_train_sampled)\n",
        "\n",
        "  accuracy = mod.evaluate(X_test_sampled, y_test_sampled, batch_size=100, quiet=True)\n",
        "  l2_eval.append(accuracy)"
      ],
      "execution_count": 119,
      "outputs": [
        {
          "output_type": "stream",
          "text": [
            "Using distance: l2\n",
            "Using distance: l2\n",
            "Using distance: l2\n",
            "Using distance: l2\n",
            "Using distance: l2\n",
            "Using distance: l2\n",
            "Using distance: l2\n",
            "Using distance: l2\n",
            "Using distance: l2\n",
            "Using distance: l2\n"
          ],
          "name": "stdout"
        }
      ]
    },
    {
      "cell_type": "code",
      "metadata": {
        "id": "hdFuRt8PTh7Z",
        "colab_type": "code",
        "colab": {
          "base_uri": "https://localhost:8080/",
          "height": 295
        },
        "outputId": "64583749-3acf-4898-d81f-1107beb8c03e"
      },
      "source": [
        "fig, ax = plt.subplots()\n",
        "\n",
        "ax.plot(list_k, l1_eval, label=\"l1 distance\")\n",
        "ax.plot(list_k, l2_eval, label=\"l2 distance\")\n",
        "ax.set(\n",
        "    title=\"Accuracy of kNN\",\n",
        "    xlabel=\"k\",\n",
        "    ylabel=\"Accuracy\"\n",
        ")\n",
        "\n",
        "plt.legend()\n",
        "plt.show()"
      ],
      "execution_count": 122,
      "outputs": [
        {
          "output_type": "display_data",
          "data": {
            "image/png": "[encoded data removed]",
            "text/plain": [
              "<Figure size 432x288 with 1 Axes>"
            ]
          },
          "metadata": {
            "tags": [],
            "needs_background": "light"
          }
        }
      ]
    },
    {
      "cell_type": "markdown",
      "metadata": {
        "id": "Dykpd_Z4Q9wr",
        "colab_type": "text"
      },
      "source": [
        "## Helpers"
      ]
    },
    {
      "cell_type": "code",
      "metadata": {
        "id": "APPWTEaiQdk6",
        "colab_type": "code",
        "colab": {}
      },
      "source": [
        "def render_image(x):\n",
        "  \"\"\"Given a (32, 32, 3) array, render the image.\n",
        "  \n",
        "  :x: np.array of dimension (32, 32, 3)\n",
        "\n",
        "  \"\"\"\n",
        "  fig, ax = plt.subplots(figsize=(3,3))\n",
        "  ax.set_axis_off()\n",
        "  ax.imshow(x)"
      ],
      "execution_count": 0,
      "outputs": []
    },
    {
      "cell_type": "code",
      "metadata": {
        "id": "eOtyA9t3RBLK",
        "colab_type": "code",
        "outputId": "a205334f-bbcd-47a9-d021-a48e0b626d3c",
        "colab": {
          "base_uri": "https://localhost:8080/",
          "height": 194
        }
      },
      "source": [
        "render_image(X_train[2])"
      ],
      "execution_count": 8,
      "outputs": [
        {
          "output_type": "display_data",
          "data": {
            "image/png": "[encoded data removed]",
            "text/plain": [
              "<Figure size 216x216 with 1 Axes>"
            ]
          },
          "metadata": {
            "tags": [],
            "needs_background": "light"
          }
        }
      ]
    }
  ]
}