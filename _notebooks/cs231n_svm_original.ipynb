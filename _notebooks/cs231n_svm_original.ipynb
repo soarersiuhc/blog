{
 "cells": [
  {
   "cell_type": "code",
   "execution_count": 1,
   "metadata": {
    "colab": {},
    "colab_type": "code",
    "id": "P73vY90hPdmi"
   },
   "outputs": [],
   "source": [
    "import tensorflow as tf\n",
    "from tensorflow.python.framework import ops\n",
    "from tensorflow.python.ops import math_ops\n",
    "from tensorflow.python.keras import backend as K\n",
    "from tensorboard.plugins.hparams import api as hp\n",
    "\n",
    "from sklearn import svm\n",
    "from sklearn.model_selection import GridSearchCV\n",
    "\n",
    "import matplotlib.pyplot as plt\n",
    "import numpy as np"
   ]
  },
  {
   "cell_type": "code",
   "execution_count": 2,
   "metadata": {},
   "outputs": [
    {
     "data": {
      "text/plain": [
       "'2.2.0'"
      ]
     },
     "execution_count": 2,
     "metadata": {},
     "output_type": "execute_result"
    }
   ],
   "source": [
    "tf.__version__"
   ]
  },
  {
   "cell_type": "code",
   "execution_count": 3,
   "metadata": {
    "colab": {},
    "colab_type": "code",
    "id": "N484npMIQWDT"
   },
   "outputs": [],
   "source": [
    "(X_train, y_train), (X_test, y_test) = tf.keras.datasets.cifar10.load_data()"
   ]
  },
  {
   "cell_type": "code",
   "execution_count": 4,
   "metadata": {
    "colab": {
     "base_uri": "https://localhost:8080/",
     "height": 34
    },
    "colab_type": "code",
    "id": "Cb3_DCUOQber",
    "outputId": "92279ca4-cc1f-4a48-a687-bdbd1b739615"
   },
   "outputs": [
    {
     "data": {
      "text/plain": [
       "((50000, 32, 32, 3), (50000, 1), (10000, 32, 32, 3), (10000, 1))"
      ]
     },
     "execution_count": 4,
     "metadata": {},
     "output_type": "execute_result"
    }
   ],
   "source": [
    "X_train.shape, y_train.shape, X_test.shape, y_test.shape"
   ]
  },
  {
   "cell_type": "code",
   "execution_count": 5,
   "metadata": {},
   "outputs": [],
   "source": [
    "X_train_normalized, X_test_normalized = X_train / 255.0, X_test / 255.0"
   ]
  },
  {
   "cell_type": "markdown",
   "metadata": {},
   "source": [
    "## Model (sklearn)"
   ]
  },
  {
   "cell_type": "code",
   "execution_count": 6,
   "metadata": {},
   "outputs": [],
   "source": [
    "X_train_normalized_reshaped, X_test_normalized_reshaped = X_train_normalized.reshape(X_train.shape[0], -1), X_test_normalized.reshape(X_test.shape[0], -1)"
   ]
  },
  {
   "cell_type": "code",
   "execution_count": 7,
   "metadata": {},
   "outputs": [
    {
     "data": {
      "text/plain": [
       "((50000, 3072), (10000, 3072))"
      ]
     },
     "execution_count": 7,
     "metadata": {},
     "output_type": "execute_result"
    }
   ],
   "source": [
    "X_train_normalized_reshaped.shape, X_test_normalized_reshaped.shape"
   ]
  },
  {
   "cell_type": "code",
   "execution_count": 16,
   "metadata": {},
   "outputs": [],
   "source": [
    "train_mask = np.random.choice(2, X_train_normalized_reshaped.shape[0], p=[0.9, 0.1])\n",
    "test_mask = np.random.choice(2, X_test_normalized_reshaped.shape[0], p=[0.9, 0.1])\n",
    "\n",
    "X_train_normalized_reshaped = X_train_normalized_reshaped[train_mask == 1]\n",
    "y_train = y_train[train_mask == 1]\n",
    "\n",
    "X_test_normalized_reshaped = X_test_normalized_reshaped[test_mask == 1]\n",
    "y_test = y_test[test_mask == 1]"
   ]
  },
  {
   "cell_type": "code",
   "execution_count": 17,
   "metadata": {},
   "outputs": [
    {
     "data": {
      "text/plain": [
       "((4902, 3072), (944, 3072))"
      ]
     },
     "execution_count": 17,
     "metadata": {},
     "output_type": "execute_result"
    }
   ],
   "source": [
    "X_train_normalized_reshaped.shape, X_test_normalized_reshaped.shape"
   ]
  },
  {
   "cell_type": "code",
   "execution_count": 8,
   "metadata": {},
   "outputs": [],
   "source": [
    "params = [\n",
    "    {\n",
    "        \"C\": [1, 10, 100, 1000, 10000],\n",
    "        \"kernel\": [\"linear\"],\n",
    "    },\n",
    "    {\n",
    "        \"C\": [1, 10, 100, 1000, 10000],\n",
    "        \"kernel\": [\"poly\"],\n",
    "        \"degree\": [3, 5, 7],\n",
    "    },\n",
    "    {\n",
    "        \"C\": [1, 10, 100, 1000, 10000],\n",
    "        \"kernel\": [\"rbf\"],\n",
    "        \"gamma\": [\"auto\", \"scale\"]\n",
    "    },\n",
    "]"
   ]
  },
  {
   "cell_type": "code",
   "execution_count": 18,
   "metadata": {},
   "outputs": [
    {
     "name": "stderr",
     "output_type": "stream",
     "text": [
      "/usr/local/lib/python3.7/site-packages/sklearn/utils/validation.py:724: DataConversionWarning: A column-vector y was passed when a 1d array was expected. Please change the shape of y to (n_samples, ), for example using ravel().\n",
      "  y = column_or_1d(y, warn=True)\n",
      "/usr/local/lib/python3.7/site-packages/sklearn/svm/base.py:193: FutureWarning: The default value of gamma will change from 'auto' to 'scale' in version 0.22 to account better for unscaled features. Set gamma explicitly to 'auto' or 'scale' to avoid this warning.\n",
      "  \"avoid this warning.\", FutureWarning)\n"
     ]
    },
    {
     "data": {
      "text/plain": [
       "SVC(C=1.0, cache_size=200, class_weight=None, coef0=0.0,\n",
       "    decision_function_shape='ovr', degree=3, gamma='auto_deprecated',\n",
       "    kernel='rbf', max_iter=-1, probability=False, random_state=None,\n",
       "    shrinking=True, tol=0.001, verbose=False)"
      ]
     },
     "execution_count": 18,
     "metadata": {},
     "output_type": "execute_result"
    }
   ],
   "source": [
    "model = svm.SVC()\n",
    "model.fit(X_train_normalized_reshaped, y_train)"
   ]
  },
  {
   "cell_type": "code",
   "execution_count": 19,
   "metadata": {},
   "outputs": [
    {
     "ename": "AttributeError",
     "evalue": "'SVC' object has no attribute 'evaluate'",
     "output_type": "error",
     "traceback": [
      "\u001b[0;31m---------------------------------------------------------------------------\u001b[0m",
      "\u001b[0;31mAttributeError\u001b[0m                            Traceback (most recent call last)",
      "\u001b[0;32m<ipython-input-19-8ed25bf6adcd>\u001b[0m in \u001b[0;36m<module>\u001b[0;34m\u001b[0m\n\u001b[0;32m----> 1\u001b[0;31m \u001b[0mmodel\u001b[0m\u001b[0;34m.\u001b[0m\u001b[0mevaluate\u001b[0m\u001b[0;34m(\u001b[0m\u001b[0mX_test_normalized_reshaped\u001b[0m\u001b[0;34m,\u001b[0m \u001b[0my_test\u001b[0m\u001b[0;34m)\u001b[0m\u001b[0;34m\u001b[0m\u001b[0;34m\u001b[0m\u001b[0m\n\u001b[0m",
      "\u001b[0;31mAttributeError\u001b[0m: 'SVC' object has no attribute 'evaluate'"
     ]
    }
   ],
   "source": [
    "model.evaluate(X_test_normalized_reshaped, y_test)"
   ]
  },
  {
   "cell_type": "code",
   "execution_count": null,
   "metadata": {},
   "outputs": [
    {
     "name": "stderr",
     "output_type": "stream",
     "text": [
      "/usr/local/lib/python3.7/site-packages/sklearn/model_selection/_split.py:1978: FutureWarning: The default value of cv will change from 3 to 5 in version 0.22. Specify it explicitly to silence this warning.\n",
      "  warnings.warn(CV_WARNING, FutureWarning)\n",
      "[Parallel(n_jobs=1)]: Using backend SequentialBackend with 1 concurrent workers.\n"
     ]
    },
    {
     "name": "stdout",
     "output_type": "stream",
     "text": [
      "Fitting 3 folds for each of 30 candidates, totalling 90 fits\n",
      "[CV] C=1, kernel=linear ..............................................\n"
     ]
    },
    {
     "name": "stderr",
     "output_type": "stream",
     "text": [
      "/usr/local/lib/python3.7/site-packages/sklearn/utils/validation.py:724: DataConversionWarning: A column-vector y was passed when a 1d array was expected. Please change the shape of y to (n_samples, ), for example using ravel().\n",
      "  y = column_or_1d(y, warn=True)\n"
     ]
    }
   ],
   "source": [
    "clf = GridSearchCV(svm.SVC(), params, verbose=4)\n",
    "clf.fit(X_train_normalized_reshaped, y_train)"
   ]
  },
  {
   "cell_type": "code",
   "execution_count": null,
   "metadata": {},
   "outputs": [],
   "source": [
    "clf.cv_results_"
   ]
  },
  {
   "cell_type": "markdown",
   "metadata": {},
   "source": [
    "## Model (tensorflow)"
   ]
  },
  {
   "cell_type": "code",
   "execution_count": 21,
   "metadata": {},
   "outputs": [],
   "source": [
    "class SVMLoss(tf.keras.losses.Loss):\n",
    "    def call(self, y_true, y_pred):\n",
    "        \"\"\"\n",
    "        SVM loss is \\sum_{l \\neq y} max(0, 1 + s_l - s_y) if y is the true label and s_i is score for class i.\n",
    "\n",
    "        Args:\n",
    "            y_true: (batch_size, 1)-tensor, indicating the true label.\n",
    "            y_pred: (batch_size, number_of_classes)-tensor, scores of each class.\n",
    "            \n",
    "        Returns:\n",
    "            (batch_size, 1)-tensor indicating loss for each data point.\n",
    "            \n",
    "        \"\"\"\n",
    "        y_pred = ops.convert_to_tensor_v2(y_pred)\n",
    "        y_true = tf.reshape(math_ops.cast(y_true, tf.dtypes.int32), [-1])\n",
    "\n",
    "        correct_class_score = tf.gather(y_pred, y_true, axis=1, batch_dims=1)\n",
    "\n",
    "        hinge_losses = tf.math.maximum(0., 1 + y_pred - tf.expand_dims(correct_class_score, 1))\n",
    "        return K.sum(hinge_losses, axis=1) - 1 # subtract 1 since we ignore the score for correct class"
   ]
  },
  {
   "cell_type": "code",
   "execution_count": null,
   "metadata": {},
   "outputs": [],
   "source": [
    "y_true = [[1], [2]]\n",
    "y_pred = [[0.05, 0.95, 0], [0.1, 0.8, 0.1]]\n",
    "\n",
    "SVMLoss().call(y_true, y_pred).numpy()"
   ]
  },
  {
   "cell_type": "code",
   "execution_count": 20,
   "metadata": {},
   "outputs": [],
   "source": [
    "HP_EPOCH = hp.HParam('epoch', hp.IntInterval(1, 5))\n",
    "HP_L2_REGULARIZATION = hp.HParam('l2_regularization', hp.Discrete([0.0, 0.0001, 0.001, 0.01, 0.1]))\n",
    "HP_KERNEL = hp.HParam('kernel', hp.Discrete([\"none\", \"gaussian\", \"laplacian\"]))\n",
    "HP_KERNEL_DIM = hp.HParam('kernel_dim', hp.Discrete([64, 128, 256, 512, 1024]))\n",
    "\n",
    "HPARAMS_LIST = [HP_EPOCH, HP_L2_REGULARIZATION, HP_KERNEL, HP_KERNEL_DIM]\n",
    "\n",
    "METRIC_ACCURACY = 'accuracy'\n",
    "\n",
    "TF_LOGDIR = \"logs/cs231n_svm_hparam_tuning\"\n",
    "\n",
    "with tf.summary.create_file_writer(TF_LOGDIR).as_default():\n",
    "    hp.hparams_config(\n",
    "      hparams=HPARAMS_LIST,\n",
    "      metrics=[hp.Metric(METRIC_ACCURACY, display_name='Accuracy')],\n",
    "    )"
   ]
  },
  {
   "cell_type": "code",
   "execution_count": null,
   "metadata": {},
   "outputs": [],
   "source": [
    "def train_and_evaluate_model(hparams):\n",
    "    model = tf.keras.models.Sequential([\n",
    "       tf.keras.layers.Flatten(input_shape=(32, 32, 3)),\n",
    "    ])\n",
    "    if hparams[HP_KERNEL] != \"none\":\n",
    "        model.add(\n",
    "            tf.keras.layers.experimental.RandomFourierFeatures(\n",
    "                output_dim=hparams[HP_KERNEL_DIM],\n",
    "                kernel_initializer=hparams[HP_KERNEL]\n",
    "            )\n",
    "        )\n",
    "    model.add(\n",
    "       tf.keras.layers.Dense(\n",
    "           10, \n",
    "           kernel_regularizer=tf.keras.regularizers.l2(hparams[HP_L2_REGULARIZATION])\n",
    "        )\n",
    "    )\n",
    "    \n",
    "    model.compile(\n",
    "        optimizer=\"adam\",\n",
    "        loss=\"sparse_categorical_crossentropy\",\n",
    "        metrics=[METRIC_ACCURACY]\n",
    "    )\n",
    "    \n",
    "    model.fit(X_train_normalized, y_train, epochs=hparams[HP_EPOCH])\n",
    "    \n",
    "    _, accuracy = model.evaluate(X_test_normalized, y_test, verbose=True)\n",
    "    \n",
    "    return accuracy"
   ]
  },
  {
   "cell_type": "code",
   "execution_count": null,
   "metadata": {},
   "outputs": [],
   "source": [
    "def run(run_dir, hparams):    \n",
    "    with tf.summary.create_file_writer(run_dir).as_default():\n",
    "        hp.hparams(hparams)  # record the values used in this trial\n",
    "        accuracy = train_and_evaluate_model(hparams)\n",
    "        tf.summary.scalar(METRIC_ACCURACY, accuracy, step=1)"
   ]
  },
  {
   "cell_type": "code",
   "execution_count": null,
   "metadata": {},
   "outputs": [],
   "source": [
    "session_num = 0\n",
    "\n",
    "for epoch in range(HP_EPOCH.domain.min_value, HP_EPOCH.domain.max_value):\n",
    "    for l2_regularization in HP_L2_REGULARIZATION.domain.values:\n",
    "        for kernel in HP_KERNEL.domain.values:\n",
    "            for kernel_dim in HP_KERNEL_DIM.domain.values:\n",
    "                hparams = {\n",
    "                    HP_EPOCH: epoch,\n",
    "                    HP_L2_REGULARIZATION: l2_regularization,\n",
    "                    HP_KERNEL: kernel,\n",
    "                    HP_KERNEL_DIM: kernel_dim,\n",
    "                }\n",
    "\n",
    "                run_name = \"run-%d\" % session_num\n",
    "                print('--- Starting trial: %s' % run_name)\n",
    "                print({h.name: hparams[h] for h in hparams})\n",
    "                run(TF_LOGDIR + \"/\" + run_name, hparams)\n",
    "                session_num += 1"
   ]
  },
  {
   "cell_type": "markdown",
   "metadata": {},
   "source": [
    "## Analysis (tensorflow)"
   ]
  },
  {
   "cell_type": "code",
   "execution_count": null,
   "metadata": {},
   "outputs": [],
   "source": [
    "%load_ext tensorboard"
   ]
  },
  {
   "cell_type": "code",
   "execution_count": null,
   "metadata": {},
   "outputs": [],
   "source": [
    "%tensorboard --logdir $TF_LOGDIR"
   ]
  }
 ],
 "metadata": {
  "kernelspec": {
   "display_name": "Python 3",
   "language": "python",
   "name": "python3"
  }
 },
 "nbformat": 4,
 "nbformat_minor": 2
}
