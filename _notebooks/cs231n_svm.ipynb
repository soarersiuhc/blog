{
  "nbformat": 4,
  "nbformat_minor": 0,
  "metadata": {
    "colab": {
      "name": "cs231n_svm.ipynb",
      "provenance": [],
      "collapsed_sections": []
    },
    "kernelspec": {
      "name": "python3",
      "display_name": "Python 3"
    }
  },
  "cells": [
    {
      "cell_type": "code",
      "metadata": {
        "id": "OnMAEgVw4-mc",
        "colab_type": "code",
        "colab": {}
      },
      "source": [
        "import tensorflow as tf\n",
        "from tensorflow.python.framework import ops\n",
        "from tensorflow.python.ops import math_ops\n",
        "from tensorflow.python.keras import backend as K\n",
        "from tensorboard.plugins.hparams import api as hp\n",
        "\n",
        "from sklearn import svm\n",
        "from sklearn.model_selection import GridSearchCV\n",
        "\n",
        "from matplotlib import cm\n",
        "import matplotlib.pyplot as plt\n",
        "import numpy as np\n",
        "\n",
        "from collections import defaultdict"
      ],
      "execution_count": 24,
      "outputs": []
    },
    {
      "cell_type": "code",
      "metadata": {
        "id": "08iXTgjR4_4T",
        "colab_type": "code",
        "colab": {}
      },
      "source": [
        "(X_train, y_train), (X_test, y_test) = tf.keras.datasets.cifar10.load_data()"
      ],
      "execution_count": 2,
      "outputs": []
    },
    {
      "cell_type": "code",
      "metadata": {
        "id": "TOroFvJv5EZK",
        "colab_type": "code",
        "colab": {
          "base_uri": "https://localhost:8080/",
          "height": 34
        },
        "outputId": "2944b9b2-a221-43ad-de92-f1c95da0477e"
      },
      "source": [
        "X_train.shape, y_train.shape, X_test.shape, y_test.shape"
      ],
      "execution_count": 3,
      "outputs": [
        {
          "output_type": "execute_result",
          "data": {
            "text/plain": [
              "((50000, 32, 32, 3), (50000, 1), (10000, 32, 32, 3), (10000, 1))"
            ]
          },
          "metadata": {
            "tags": []
          },
          "execution_count": 3
        }
      ]
    },
    {
      "cell_type": "code",
      "metadata": {
        "id": "s9yzjlLs5Fj9",
        "colab_type": "code",
        "colab": {}
      },
      "source": [
        "X_train_normalized, X_test_normalized = X_train / 255.0, X_test / 255.0"
      ],
      "execution_count": 4,
      "outputs": []
    },
    {
      "cell_type": "markdown",
      "metadata": {
        "id": "NRcoh94A5Go9",
        "colab_type": "text"
      },
      "source": [
        "## Model (sklearn)"
      ]
    },
    {
      "cell_type": "code",
      "metadata": {
        "id": "OD8btyHQ5Ibc",
        "colab_type": "code",
        "colab": {}
      },
      "source": [
        "X_train_normalized_reshaped, X_test_normalized_reshaped = X_train_normalized.reshape(X_train.shape[0], -1), X_test_normalized.reshape(X_test.shape[0], -1)"
      ],
      "execution_count": 5,
      "outputs": []
    },
    {
      "cell_type": "code",
      "metadata": {
        "id": "kwjVlNT95JfE",
        "colab_type": "code",
        "colab": {
          "base_uri": "https://localhost:8080/",
          "height": 34
        },
        "outputId": "3b50479a-f85a-4af6-cde5-8f3e75802af1"
      },
      "source": [
        "X_train_normalized_reshaped.shape, X_test_normalized_reshaped.shape"
      ],
      "execution_count": 6,
      "outputs": [
        {
          "output_type": "execute_result",
          "data": {
            "text/plain": [
              "((50000, 3072), (10000, 3072))"
            ]
          },
          "metadata": {
            "tags": []
          },
          "execution_count": 6
        }
      ]
    },
    {
      "cell_type": "code",
      "metadata": {
        "id": "rydKrvGVH9RL",
        "colab_type": "code",
        "colab": {}
      },
      "source": [
        "train_mask = np.random.choice(2, X_train_normalized_reshaped.shape[0], p=[0.9, 0.1])\n",
        "test_mask = np.random.choice(2, X_test_normalized_reshaped.shape[0], p=[0.9, 0.1])\n",
        "\n",
        "X_train_normalized_reshaped = X_train_normalized_reshaped[train_mask == 1]\n",
        "y_train = y_train[train_mask == 1]\n",
        "\n",
        "X_test_normalized_reshaped = X_test_normalized_reshaped[test_mask == 1]\n",
        "y_test = y_test[test_mask == 1]"
      ],
      "execution_count": 10,
      "outputs": []
    },
    {
      "cell_type": "code",
      "metadata": {
        "id": "sK5OCMg_H-79",
        "colab_type": "code",
        "colab": {
          "base_uri": "https://localhost:8080/",
          "height": 34
        },
        "outputId": "5abd301b-0df4-48eb-f230-ff6cb2158c31"
      },
      "source": [
        "X_train_normalized_reshaped.shape, X_test_normalized_reshaped.shape"
      ],
      "execution_count": 11,
      "outputs": [
        {
          "output_type": "execute_result",
          "data": {
            "text/plain": [
              "((5011, 3072), (973, 3072))"
            ]
          },
          "metadata": {
            "tags": []
          },
          "execution_count": 11
        }
      ]
    },
    {
      "cell_type": "code",
      "metadata": {
        "id": "-LBXRXGs5Kq0",
        "colab_type": "code",
        "colab": {}
      },
      "source": [
        "params = [\n",
        "    {\n",
        "        \"C\": [1, 10, 100, 1000, 10000],\n",
        "        \"kernel\": [\"linear\"],\n",
        "    },\n",
        "    {\n",
        "        \"C\": [1, 10, 100, 1000, 10000],\n",
        "        \"kernel\": [\"poly\"],\n",
        "        \"degree\": [3, 5, 7],\n",
        "    },\n",
        "    {\n",
        "        \"C\": [1, 10, 100, 1000, 10000],\n",
        "        \"kernel\": [\"rbf\"],\n",
        "        \"gamma\": [\"auto\", \"scale\"]\n",
        "    },\n",
        "]"
      ],
      "execution_count": 12,
      "outputs": []
    },
    {
      "cell_type": "code",
      "metadata": {
        "id": "S8dufDJe5L7z",
        "colab_type": "code",
        "colab": {
          "base_uri": "https://localhost:8080/",
          "height": 428
        },
        "outputId": "6b59ad3a-6db7-4afe-9ef6-4baec9966f6f"
      },
      "source": [
        "clf = GridSearchCV(svm.SVC(), params, verbose=7, n_jobs=-1, cv=3)\n",
        "clf.fit(X_train_normalized_reshaped, y_train)"
      ],
      "execution_count": 13,
      "outputs": [
        {
          "output_type": "stream",
          "text": [
            "Fitting 3 folds for each of 30 candidates, totalling 90 fits\n"
          ],
          "name": "stdout"
        },
        {
          "output_type": "stream",
          "text": [
            "[Parallel(n_jobs=-1)]: Using backend LokyBackend with 2 concurrent workers.\n",
            "[Parallel(n_jobs=-1)]: Done   4 tasks      | elapsed:  3.9min\n",
            "[Parallel(n_jobs=-1)]: Done  28 tasks      | elapsed: 25.2min\n",
            "[Parallel(n_jobs=-1)]: Done  68 tasks      | elapsed: 57.0min\n",
            "[Parallel(n_jobs=-1)]: Done  90 out of  90 | elapsed: 80.1min finished\n",
            "/usr/local/lib/python3.6/dist-packages/sklearn/utils/validation.py:760: DataConversionWarning: A column-vector y was passed when a 1d array was expected. Please change the shape of y to (n_samples, ), for example using ravel().\n",
            "  y = column_or_1d(y, warn=True)\n"
          ],
          "name": "stderr"
        },
        {
          "output_type": "execute_result",
          "data": {
            "text/plain": [
              "GridSearchCV(cv=3, error_score=nan,\n",
              "             estimator=SVC(C=1.0, break_ties=False, cache_size=200,\n",
              "                           class_weight=None, coef0=0.0,\n",
              "                           decision_function_shape='ovr', degree=3,\n",
              "                           gamma='scale', kernel='rbf', max_iter=-1,\n",
              "                           probability=False, random_state=None, shrinking=True,\n",
              "                           tol=0.001, verbose=False),\n",
              "             iid='deprecated', n_jobs=-1,\n",
              "             param_grid=[{'C': [1, 10, 100, 1000, 10000], 'kernel': ['linear']},\n",
              "                         {'C': [1, 10, 100, 1000, 10000], 'degree': [3, 5, 7],\n",
              "                          'kernel': ['poly']},\n",
              "                         {'C': [1, 10, 100, 1000, 10000],\n",
              "                          'gamma': ['auto', 'scale'], 'kernel': ['rbf']}],\n",
              "             pre_dispatch='2*n_jobs', refit=True, return_train_score=False,\n",
              "             scoring=None, verbose=7)"
            ]
          },
          "metadata": {
            "tags": []
          },
          "execution_count": 13
        }
      ]
    },
    {
      "cell_type": "code",
      "metadata": {
        "id": "F3m0O2nrWUHT",
        "colab_type": "code",
        "colab": {
          "base_uri": "https://localhost:8080/",
          "height": 1000
        },
        "outputId": "02666b15-0ddd-4c32-9f02-366749985874"
      },
      "source": [
        "clf.cv_results_"
      ],
      "execution_count": 14,
      "outputs": [
        {
          "output_type": "execute_result",
          "data": {
            "text/plain": [
              "{'mean_fit_time': array([ 84.13018481,  82.74805371,  85.21089069,  83.32584429,\n",
              "         82.8511827 ,  82.52063131,  69.17637142,  61.8635424 ,\n",
              "         77.90500323,  64.925186  ,  59.27606773,  74.98744154,\n",
              "         63.15618078,  57.10148851,  77.57143084,  62.04139829,\n",
              "         57.02438442,  73.87445752,  62.25901437,  56.59079456,\n",
              "         87.22254928,  78.7047348 ,  71.10518463, 103.35362832,\n",
              "         68.6614356 , 105.3166248 ,  81.00193397, 103.46636009,\n",
              "         79.061294  , 102.83608389]),\n",
              " 'mean_score_time': array([30.07447052, 30.38491917, 30.16480581, 30.52212199, 30.17049829,\n",
              "        29.56842375, 27.71297503, 26.88520392, 28.78639952, 29.09983381,\n",
              "        26.18164738, 28.31643693, 26.80183983, 25.93973557, 28.54438678,\n",
              "        26.67143766, 25.93880796, 28.20690497, 27.4442571 , 25.79255128,\n",
              "        30.76157093, 30.49309015, 31.86722883, 30.97100711, 30.20723311,\n",
              "        31.11293197, 29.78612359, 30.8853368 , 29.90445638, 30.44392832]),\n",
              " 'mean_test_score': array([0.30812439, 0.30692606, 0.30692606, 0.30692606, 0.30692606,\n",
              "        0.38275824, 0.35920845, 0.32707667, 0.37617428, 0.35182597,\n",
              "        0.31929474, 0.36479978, 0.33905415, 0.3153044 , 0.36340258,\n",
              "        0.33685914, 0.31450659, 0.36340258, 0.33785714, 0.3123117 ,\n",
              "        0.34444444, 0.42466426, 0.40211522, 0.42945456, 0.39093925,\n",
              "        0.42566274, 0.37357911, 0.42566274, 0.37377907, 0.42566274]),\n",
              " 'param_C': masked_array(data=[1, 10, 100, 1000, 10000, 1, 1, 1, 10, 10, 10, 100, 100,\n",
              "                    100, 1000, 1000, 1000, 10000, 10000, 10000, 1, 1, 10,\n",
              "                    10, 100, 100, 1000, 1000, 10000, 10000],\n",
              "              mask=[False, False, False, False, False, False, False, False,\n",
              "                    False, False, False, False, False, False, False, False,\n",
              "                    False, False, False, False, False, False, False, False,\n",
              "                    False, False, False, False, False, False],\n",
              "        fill_value='?',\n",
              "             dtype=object),\n",
              " 'param_degree': masked_array(data=[--, --, --, --, --, 3, 5, 7, 3, 5, 7, 3, 5, 7, 3, 5, 7,\n",
              "                    3, 5, 7, --, --, --, --, --, --, --, --, --, --],\n",
              "              mask=[ True,  True,  True,  True,  True, False, False, False,\n",
              "                    False, False, False, False, False, False, False, False,\n",
              "                    False, False, False, False,  True,  True,  True,  True,\n",
              "                     True,  True,  True,  True,  True,  True],\n",
              "        fill_value='?',\n",
              "             dtype=object),\n",
              " 'param_gamma': masked_array(data=[--, --, --, --, --, --, --, --, --, --, --, --, --, --,\n",
              "                    --, --, --, --, --, --, 'auto', 'scale', 'auto',\n",
              "                    'scale', 'auto', 'scale', 'auto', 'scale', 'auto',\n",
              "                    'scale'],\n",
              "              mask=[ True,  True,  True,  True,  True,  True,  True,  True,\n",
              "                     True,  True,  True,  True,  True,  True,  True,  True,\n",
              "                     True,  True,  True,  True, False, False, False, False,\n",
              "                    False, False, False, False, False, False],\n",
              "        fill_value='?',\n",
              "             dtype=object),\n",
              " 'param_kernel': masked_array(data=['linear', 'linear', 'linear', 'linear', 'linear',\n",
              "                    'poly', 'poly', 'poly', 'poly', 'poly', 'poly', 'poly',\n",
              "                    'poly', 'poly', 'poly', 'poly', 'poly', 'poly', 'poly',\n",
              "                    'poly', 'rbf', 'rbf', 'rbf', 'rbf', 'rbf', 'rbf',\n",
              "                    'rbf', 'rbf', 'rbf', 'rbf'],\n",
              "              mask=[False, False, False, False, False, False, False, False,\n",
              "                    False, False, False, False, False, False, False, False,\n",
              "                    False, False, False, False, False, False, False, False,\n",
              "                    False, False, False, False, False, False],\n",
              "        fill_value='?',\n",
              "             dtype=object),\n",
              " 'params': [{'C': 1, 'kernel': 'linear'},\n",
              "  {'C': 10, 'kernel': 'linear'},\n",
              "  {'C': 100, 'kernel': 'linear'},\n",
              "  {'C': 1000, 'kernel': 'linear'},\n",
              "  {'C': 10000, 'kernel': 'linear'},\n",
              "  {'C': 1, 'degree': 3, 'kernel': 'poly'},\n",
              "  {'C': 1, 'degree': 5, 'kernel': 'poly'},\n",
              "  {'C': 1, 'degree': 7, 'kernel': 'poly'},\n",
              "  {'C': 10, 'degree': 3, 'kernel': 'poly'},\n",
              "  {'C': 10, 'degree': 5, 'kernel': 'poly'},\n",
              "  {'C': 10, 'degree': 7, 'kernel': 'poly'},\n",
              "  {'C': 100, 'degree': 3, 'kernel': 'poly'},\n",
              "  {'C': 100, 'degree': 5, 'kernel': 'poly'},\n",
              "  {'C': 100, 'degree': 7, 'kernel': 'poly'},\n",
              "  {'C': 1000, 'degree': 3, 'kernel': 'poly'},\n",
              "  {'C': 1000, 'degree': 5, 'kernel': 'poly'},\n",
              "  {'C': 1000, 'degree': 7, 'kernel': 'poly'},\n",
              "  {'C': 10000, 'degree': 3, 'kernel': 'poly'},\n",
              "  {'C': 10000, 'degree': 5, 'kernel': 'poly'},\n",
              "  {'C': 10000, 'degree': 7, 'kernel': 'poly'},\n",
              "  {'C': 1, 'gamma': 'auto', 'kernel': 'rbf'},\n",
              "  {'C': 1, 'gamma': 'scale', 'kernel': 'rbf'},\n",
              "  {'C': 10, 'gamma': 'auto', 'kernel': 'rbf'},\n",
              "  {'C': 10, 'gamma': 'scale', 'kernel': 'rbf'},\n",
              "  {'C': 100, 'gamma': 'auto', 'kernel': 'rbf'},\n",
              "  {'C': 100, 'gamma': 'scale', 'kernel': 'rbf'},\n",
              "  {'C': 1000, 'gamma': 'auto', 'kernel': 'rbf'},\n",
              "  {'C': 1000, 'gamma': 'scale', 'kernel': 'rbf'},\n",
              "  {'C': 10000, 'gamma': 'auto', 'kernel': 'rbf'},\n",
              "  {'C': 10000, 'gamma': 'scale', 'kernel': 'rbf'}],\n",
              " 'rank_test_score': array([26, 27, 27, 27, 27,  8, 15, 21,  9, 16, 22, 12, 18, 23, 13, 20, 24,\n",
              "        13, 19, 25, 17,  5,  6,  1,  7,  2, 11,  2, 10,  2], dtype=int32),\n",
              " 'split0_test_score': array([0.29682825, 0.30041891, 0.30041891, 0.30041891, 0.30041891,\n",
              "        0.38120886, 0.36564931, 0.34590066, 0.3668462 , 0.3518851 ,\n",
              "        0.33333333, 0.35308199, 0.33871933, 0.32495512, 0.35308199,\n",
              "        0.33572711, 0.3219629 , 0.35308199, 0.33572711, 0.31837223,\n",
              "        0.33333333, 0.4320766 , 0.40275284, 0.43267504, 0.39437463,\n",
              "        0.42968282, 0.36864153, 0.42968282, 0.3668462 , 0.42968282]),\n",
              " 'split1_test_score': array([0.31497006, 0.30838323, 0.30838323, 0.30838323, 0.30838323,\n",
              "        0.38323353, 0.35449102, 0.30958084, 0.38622754, 0.35628743,\n",
              "        0.31197605, 0.38622754, 0.34610778, 0.30838323, 0.38622754,\n",
              "        0.34610778, 0.30838323, 0.38622754, 0.34610778, 0.30838323,\n",
              "        0.35389222, 0.41377246, 0.40419162, 0.43353293, 0.4011976 ,\n",
              "        0.4257485 , 0.37005988, 0.4257485 , 0.37305389, 0.4257485 ]),\n",
              " 'split2_test_score': array([0.31257485, 0.31197605, 0.31197605, 0.31197605, 0.31197605,\n",
              "        0.38383234, 0.35748503, 0.3257485 , 0.3754491 , 0.34730539,\n",
              "        0.31257485, 0.35508982, 0.33233533, 0.31257485, 0.3508982 ,\n",
              "        0.32874251, 0.31317365, 0.3508982 , 0.33173653, 0.31017964,\n",
              "        0.34610778, 0.42814371, 0.3994012 , 0.42215569, 0.37724551,\n",
              "        0.42155689, 0.38203593, 0.42155689, 0.38143713, 0.42155689]),\n",
              " 'std_fit_time': array([1.87212962, 0.99675676, 2.48597306, 0.72368658, 1.14932744,\n",
              "        1.09295193, 1.31301826, 2.45489641, 2.1736306 , 1.72001624,\n",
              "        1.15808175, 3.37283197, 2.33996028, 0.43887533, 4.30184866,\n",
              "        2.29570207, 0.47373226, 2.93001256, 1.60990523, 0.48509716,\n",
              "        0.45545521, 0.56661717, 0.39258686, 0.65831933, 0.42834305,\n",
              "        1.03168995, 3.23903322, 0.72339255, 1.35020375, 4.94020204]),\n",
              " 'std_score_time': array([0.05484668, 0.17543252, 0.05533983, 0.27357919, 0.08841476,\n",
              "        0.16999506, 0.14348567, 0.60332571, 0.17481216, 1.3183721 ,\n",
              "        0.33290678, 0.15845086, 0.53750633, 0.30572502, 0.32343186,\n",
              "        0.24885904, 0.32296219, 0.11352306, 0.86836325, 0.27867055,\n",
              "        0.0859431 , 0.02382706, 0.82476563, 0.10319214, 0.30462679,\n",
              "        0.24840207, 0.08145195, 0.11212786, 0.24750511, 1.09435428]),\n",
              " 'std_test_score': array([0.00804721, 0.00482938, 0.00482938, 0.00482938, 0.00482938,\n",
              "        0.00112252, 0.00471554, 0.01485722, 0.007929  , 0.00366714,\n",
              "        0.00992979, 0.01517387, 0.00562756, 0.00703537, 0.01616429,\n",
              "        0.00713439, 0.00562342, 0.01616429, 0.00605728, 0.00434774,\n",
              "        0.00847514, 0.00786725, 0.00200698, 0.00517295, 0.01007562,\n",
              "        0.00331795, 0.00600784, 0.00331795, 0.00597875, 0.00331795])}"
            ]
          },
          "metadata": {
            "tags": []
          },
          "execution_count": 14
        }
      ]
    },
    {
      "cell_type": "code",
      "metadata": {
        "id": "7g6UqMBb5M_n",
        "colab_type": "code",
        "colab": {
          "base_uri": "https://localhost:8080/",
          "height": 34
        },
        "outputId": "f6c3a723-3d37-462d-a70c-cbbd89f3d5bb"
      },
      "source": [
        "clf.best_score_, clf.best_params_"
      ],
      "execution_count": 15,
      "outputs": [
        {
          "output_type": "execute_result",
          "data": {
            "text/plain": [
              "(0.4294545558792648, {'C': 10, 'gamma': 'scale', 'kernel': 'rbf'})"
            ]
          },
          "metadata": {
            "tags": []
          },
          "execution_count": 15
        }
      ]
    },
    {
      "cell_type": "code",
      "metadata": {
        "id": "cI6sYxoSB7Ds",
        "colab_type": "code",
        "colab": {
          "base_uri": "https://localhost:8080/",
          "height": 295
        },
        "outputId": "882be0e2-eddb-4f14-c928-997a4d333046"
      },
      "source": [
        "kernel_data = defaultdict(list)\n",
        "\n",
        "for params, score in zip(clf.cv_results_[\"params\"], clf.cv_results_[\"mean_test_score\"]):\n",
        "  key = params[\"kernel\"]\n",
        "  kernel_data[params[\"kernel\"]].append(score)\n",
        "\n",
        "kernels, scores = kernel_data.keys(), kernel_data.values()\n",
        "\n",
        "n_categories = len(scores)\n",
        "clevels = np.linspace(0., 1., n_categories)\n",
        "for (idx, category_scores), clevel in zip(enumerate(scores), clevels):\n",
        "  for score in category_scores:\n",
        "    plt.scatter(\n",
        "        np.random.normal(idx + 1, 0.04),\n",
        "        score,\n",
        "        color=cm.prism(clevel),\n",
        "        alpha=0.7\n",
        "    )\n",
        "\n",
        "plt.xticks(range(1, len(kernels) + 1), kernels)\n",
        "plt.xlabel(\"Kernels\")\n",
        "plt.ylabel(\"Accuracy\")\n",
        "plt.title(\"CV scores for different kernels\")\n",
        "plt.show()"
      ],
      "execution_count": 30,
      "outputs": [
        {
          "output_type": "display_data",
          "data": {
            "image/png": "[encoded data removed]",
            "text/plain": [
              "<Figure size 432x288 with 1 Axes>"
            ]
          },
          "metadata": {
            "tags": [],
            "needs_background": "light"
          }
        }
      ]
    },
    {
      "cell_type": "code",
      "metadata": {
        "id": "Fk4xhwRlb-yu",
        "colab_type": "code",
        "colab": {
          "base_uri": "https://localhost:8080/",
          "height": 295
        },
        "outputId": "eac8e3b6-d554-4d84-a287-ebe2cec6166a"
      },
      "source": [
        "poly_data = defaultdict(list)\n",
        "\n",
        "for params, score in zip(clf.cv_results_[\"params\"], clf.cv_results_[\"mean_test_score\"]):\n",
        "  if params[\"kernel\"] != \"poly\":\n",
        "    continue\n",
        "  poly_data[params[\"degree\"]].append(score)\n",
        "\n",
        "degrees, scores = poly_data.keys(), poly_data.values()\n",
        "\n",
        "n_categories = len(scores)\n",
        "clevels = np.linspace(0., 1., n_categories)\n",
        "for (idx, category_scores), clevel in zip(enumerate(scores), clevels):\n",
        "  for score in category_scores:\n",
        "    plt.scatter(\n",
        "        np.random.normal(idx + 1, 0.04),\n",
        "        score,\n",
        "        color=cm.prism(clevel),\n",
        "        alpha=0.7\n",
        "    )\n",
        "    \n",
        "plt.xticks(range(1, len(degrees) + 1), degrees)\n",
        "plt.xlabel(\"Polynomial degree\")\n",
        "plt.ylabel(\"Accuracy\")\n",
        "plt.title(\"CV scores for polynomial kernel with different degrees\")\n",
        "plt.show()"
      ],
      "execution_count": 31,
      "outputs": [
        {
          "output_type": "display_data",
          "data": {
            "image/png": "[encoded data removed]",
            "text/plain": [
              "<Figure size 432x288 with 1 Axes>"
            ]
          },
          "metadata": {
            "tags": [],
            "needs_background": "light"
          }
        }
      ]
    },
    {
      "cell_type": "code",
      "metadata": {
        "id": "LAZyjjIzd_DR",
        "colab_type": "code",
        "colab": {
          "base_uri": "https://localhost:8080/",
          "height": 295
        },
        "outputId": "ffece222-854e-456e-e417-1473da229117"
      },
      "source": [
        "rbf_data = defaultdict(list)\n",
        "\n",
        "for params, score in zip(clf.cv_results_[\"params\"], clf.cv_results_[\"mean_test_score\"]):\n",
        "  if params[\"kernel\"] != \"rbf\":\n",
        "    continue\n",
        "  rbf_data[params[\"gamma\"]].append(score)\n",
        "\n",
        "gammas, scores = rbf_data.keys(), rbf_data.values()\n",
        "\n",
        "n_categories = len(scores)\n",
        "clevels = np.linspace(0., 1., n_categories)\n",
        "for (idx, category_scores), clevel in zip(enumerate(scores), clevels):\n",
        "  for score in category_scores:\n",
        "    plt.scatter(\n",
        "        np.random.normal(idx + 1, 0.04),\n",
        "        score,\n",
        "        color=cm.prism(clevel),\n",
        "        alpha=0.7\n",
        "    )\n",
        "    \n",
        "plt.xticks(range(1, len(gammas) + 1), gammas)\n",
        "plt.xlabel(\"Gamma\")\n",
        "plt.ylabel(\"Accuracy\")\n",
        "plt.title(\"CV scores for rbf kernel with different gamma\")\n",
        "plt.show()"
      ],
      "execution_count": 32,
      "outputs": [
        {
          "output_type": "display_data",
          "data": {
            "image/png": "[encoded data removed]",
            "text/plain": [
              "<Figure size 432x288 with 1 Axes>"
            ]
          },
          "metadata": {
            "tags": [],
            "needs_background": "light"
          }
        }
      ]
    },
    {
      "cell_type": "code",
      "metadata": {
        "id": "4qwhjut_eWJA",
        "colab_type": "code",
        "colab": {}
      },
      "source": [
        ""
      ],
      "execution_count": null,
      "outputs": []
    }
  ]
}